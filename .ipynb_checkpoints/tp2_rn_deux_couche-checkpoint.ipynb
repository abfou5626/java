{
 "cells": [
  {
   "cell_type": "code",
   "execution_count": 3,
   "id": "02637bd4",
   "metadata": {},
   "outputs": [],
   "source": [
    "import numpy as np\n",
    "import pandas as pd\n",
    "import matplotlib.pyplot as plt\n",
    "from sklearn.datasets import make_blobs"
   ]
  },
  {
   "cell_type": "code",
   "execution_count": 4,
   "id": "8af01e9e",
   "metadata": {},
   "outputs": [],
   "source": [
    "X, y = make_blobs(n_samples=100, centers=3, n_features=2,random_state=0)"
   ]
  },
  {
   "cell_type": "code",
   "execution_count": 5,
   "id": "3824e890",
   "metadata": {},
   "outputs": [],
   "source": [
    "y=y.reshape(100,1)"
   ]
  },
  {
   "cell_type": "code",
   "execution_count": 33,
   "id": "a992bc45",
   "metadata": {},
   "outputs": [],
   "source": [
    "def initialisation(nb_neuro_c1,entrée,nb_neuro_2):\n",
    "    w1=np.random.randn(nb_neuro_c1,entrée)\n",
    "    b1=np.random.randn(nb_neuro_c1,1)\n",
    "    w2=np.random.randn(nb_neuro_2,nb_neuro_c1)\n",
    "    b2=np.random.randn(nb_neuro_2,1)\n",
    "    \n",
    "    return(w1,b1,w2,b2)  "
   ]
  },
  {
   "cell_type": "code",
   "execution_count": 34,
   "id": "3e67e2aa",
   "metadata": {},
   "outputs": [],
   "source": [
    "w1,b1,w2,b2=initialisation(3,2,1)\n"
   ]
  },
  {
   "cell_type": "code",
   "execution_count": 35,
   "id": "f13256cc",
   "metadata": {},
   "outputs": [
    {
     "name": "stdout",
     "output_type": "stream",
     "text": [
      "(3, 2)\n"
     ]
    }
   ],
   "source": [
    "print(w1.shape)"
   ]
  },
  {
   "cell_type": "code",
   "execution_count": 36,
   "id": "a96a7d83",
   "metadata": {},
   "outputs": [
    {
     "name": "stdout",
     "output_type": "stream",
     "text": [
      "(3, 1)\n"
     ]
    }
   ],
   "source": [
    "print(b1.shape)"
   ]
  },
  {
   "cell_type": "code",
   "execution_count": 37,
   "id": "240c2ff2",
   "metadata": {},
   "outputs": [
    {
     "name": "stdout",
     "output_type": "stream",
     "text": [
      "(1, 3)\n"
     ]
    }
   ],
   "source": [
    "print(w2.shape)"
   ]
  },
  {
   "cell_type": "code",
   "execution_count": 38,
   "id": "3d7abb54",
   "metadata": {},
   "outputs": [
    {
     "name": "stdout",
     "output_type": "stream",
     "text": [
      "(1, 1)\n"
     ]
    }
   ],
   "source": [
    "print(b2.shape)"
   ]
  },
  {
   "cell_type": "code",
   "execution_count": null,
   "id": "0de26851",
   "metadata": {},
   "outputs": [],
   "source": []
  }
 ],
 "metadata": {
  "kernelspec": {
   "display_name": "Python 3 (ipykernel)",
   "language": "python",
   "name": "python3"
  },
  "language_info": {
   "codemirror_mode": {
    "name": "ipython",
    "version": 3
   },
   "file_extension": ".py",
   "mimetype": "text/x-python",
   "name": "python",
   "nbconvert_exporter": "python",
   "pygments_lexer": "ipython3",
   "version": "3.11.4"
  }
 },
 "nbformat": 4,
 "nbformat_minor": 5
}
