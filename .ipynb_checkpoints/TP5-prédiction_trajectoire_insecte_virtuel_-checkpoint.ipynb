{
 "cells": [
  {
   "cell_type": "markdown",
   "metadata": {
    "id": "MEZAYkDrwlQI"
   },
   "source": [
    "Step 1: Import and init\n"
   ]
  },
  {
   "cell_type": "code",
   "execution_count": 10,
   "metadata": {
    "id": "KBra38rRXeDl"
   },
   "outputs": [],
   "source": [
    "import tensorflow as tf\n",
    "from tensorflow import keras\n",
    "from tensorflow.keras.callbacks import TensorBoard\n",
    "from tensorflow.keras.preprocessing.sequence import TimeseriesGenerator\n",
    "\n",
    "import numpy as np\n",
    "import math, random\n",
    "from math import sin,cos,pi\n",
    "import matplotlib.pyplot as plt\n",
    "\n",
    "import pandas as pd\n",
    "import h5py, json\n",
    "import os,time,sys\n",
    "\n",
    "from importlib import reload\n"
   ]
  },
  {
   "cell_type": "markdown",
   "metadata": {
    "id": "mb34oD8Iw36D"
   },
   "source": [
    "Parameters\n"
   ]
  },
  {
   "cell_type": "code",
   "execution_count": 12,
   "metadata": {
    "id": "MLBnqdN6w5js"
   },
   "outputs": [],
   "source": [
    "# ---- About dataset\n",
    "#pour fabriquer notre trajectoire, on va faire varier notre paramètre t de zéro à 1000 avec un pas de 0,02.\n",
    "#on génère deux dimensions puisqu'on va se déplacer pour faire une trajectoire dans un espace à deux dimensions\n",
    "max_t        = 1000\n",
    "delta_t      = 0.02\n",
    "features_len = 2\n",
    "\n",
    "# la longueur des séquences dont on se servira pour l'apprentissage et  le nombre de pas qu'on voudra prédire par la suite\n",
    "sequence_len = 20\n",
    "predict_len  = 5\n",
    "\n",
    "# ---- About training\n",
    "#\n",
    "scale         = 1       # Percentage of dataset to be used (1=all)\n",
    "train_prop    = .8       # Percentage for train (the rest being for the test)\n",
    "batch_size    = 32\n",
    "epochs        = 5\n"
   ]
  },
  {
   "cell_type": "markdown",
   "metadata": {
    "id": "TXLU39iO1YZT"
   },
   "source": [
    "Step 2 - Generation of a fun dataset\n",
    "\n"
   ]
  },
  {
   "cell_type": "markdown",
   "metadata": {
    "id": "TkEKa3PE1ggj"
   },
   "source": [
    "2.1 - Virtual trajectory of our ladybug"
   ]
  },
  {
   "cell_type": "code",
   "execution_count": 13,
   "metadata": {
    "id": "Cz84DjDM11sJ"
   },
   "outputs": [],
   "source": [
    "#fabriquer  fausse trajectoire en utilisant une fonction mathématique à base de sinus et de cosinus\n",
    "def ladybug_init(s=122):\n",
    "\n",
    "    if s>0 : random.seed(s)\n",
    "    ladybug_init.params_x = [ random.gauss(0.,1.) for u in range(8)]\n",
    "    ladybug_init.params_y = [ random.gauss(0.,1.) for u in range(8)]\n",
    "\n",
    "def ladybug_move(t):\n",
    "    k=0.5\n",
    "    [ax1, ax2, ax3, ax4, kx1, kx2, kx3, kx4] = ladybug_init.params_x\n",
    "    [ay1, ay2, ay3, ay4, ky1, ky2, ky3, ky4] = ladybug_init.params_y\n",
    "\n",
    "    x = ax1*sin(t*(kx1+20)) + ax2*cos(t*(kx2+10)) + ax3*sin(t*(kx3+5)) + ax4*cos(t*(kx4+5))\n",
    "    y = ay1*cos(t*(ky1+20)) + ay2*sin(t*(ky2+10)) + ay3*cos(t*(ky3+5)) + ay4*sin(t*(ky4+5))\n",
    "\n",
    "    return x,y"
   ]
  },
  {
   "cell_type": "markdown",
   "metadata": {
    "id": "0efvi2U83Nk1"
   },
   "source": [
    "2.2 - Get some positions, and build a rescaled and normalized dataset"
   ]
  },
  {
   "cell_type": "code",
   "execution_count": 14,
   "metadata": {
    "colab": {
     "base_uri": "https://localhost:8080/"
    },
    "id": "Hx2a_3Ss3QOs",
    "outputId": "ae4f7590-3642-46fc-bd7b-518e3f68cf1c"
   },
   "outputs": [
    {
     "name": "stdout",
     "output_type": "stream",
     "text": [
      "Dataset generated.\n",
      "Train shape is :  (40000, 2)\n",
      "Test  shape is :  (10000, 2)\n"
     ]
    }
   ],
   "source": [
    "# ---- Get positions\n",
    "#\n",
    "ladybug_init(s=16)\n",
    "x,y = 0,0\n",
    "positions=[]\n",
    "for t in np.arange(0., max_t, delta_t):\n",
    "    x,y = ladybug_move(t)\n",
    "    positions.append([x,y])\n",
    "\n",
    "# ---- Build rescaled dataset\n",
    "#\n",
    "n = int( len(positions)*scale )\n",
    "dataset = np.array(positions[:n])\n",
    "\n",
    "k = int(len(dataset)*train_prop)\n",
    "x_train = dataset[:k]\n",
    "x_test  = dataset[k:]\n",
    "\n",
    "# ---- Normalize\n",
    "#\n",
    "mean = x_train.mean()\n",
    "std  = x_train.std()\n",
    "x_train = (x_train - mean) / std\n",
    "x_test  = (x_test  - mean) / std\n",
    "\n",
    "print(\"Dataset generated.\")\n",
    "print(\"Train shape is : \", x_train.shape)\n",
    "print(\"Test  shape is : \", x_test.shape)"
   ]
  },
  {
   "cell_type": "code",
   "execution_count": 7,
   "metadata": {
    "id": "FW642Ozt4XKv"
   },
   "outputs": [],
   "source": [
    "#trajectoire de de 40000 pas pour la partie apprentissage de 10000 pas pour la partie test."
   ]
  },
  {
   "cell_type": "markdown",
   "metadata": {
    "id": "icw-l5BY8SJF"
   },
   "source": [
    " 2.3 - Prepare some nice data generator"
   ]
  },
  {
   "cell_type": "code",
   "execution_count": 16,
   "metadata": {
    "colab": {
     "base_uri": "https://localhost:8080/"
    },
    "id": "6aE97LdgIAc2",
    "outputId": "ecc1c2ae-8dea-4bbc-9286-00410f0966a5"
   },
   "outputs": [
    {
     "name": "stdout",
     "output_type": "stream",
     "text": [
      "Help on class TimeseriesGenerator in module keras.src.preprocessing.sequence:\n",
      "\n",
      "class TimeseriesGenerator(keras.src.utils.data_utils.Sequence)\n",
      " |  TimeseriesGenerator(data, targets, length, sampling_rate=1, stride=1, start_index=0, end_index=None, shuffle=False, reverse=False, batch_size=128)\n",
      " |  \n",
      " |  Utility class for generating batches of temporal data.\n",
      " |  \n",
      " |  Deprecated: `tf.keras.preprocessing.sequence.TimeseriesGenerator` does not\n",
      " |  operate on tensors and is not recommended for new code. Prefer using a\n",
      " |  `tf.data.Dataset` which provides a more efficient and flexible mechanism for\n",
      " |  batching, shuffling, and windowing input. See the\n",
      " |  [tf.data guide](https://www.tensorflow.org/guide/data) for more details.\n",
      " |  \n",
      " |  This class takes in a sequence of data-points gathered at\n",
      " |  equal intervals, along with time series parameters such as\n",
      " |  stride, length of history, etc., to produce batches for\n",
      " |  training/validation.\n",
      " |  \n",
      " |  Arguments:\n",
      " |      data: Indexable generator (such as list or Numpy array)\n",
      " |          containing consecutive data points (timesteps).\n",
      " |          The data should be at 2D, and axis 0 is expected\n",
      " |          to be the time dimension.\n",
      " |      targets: Targets corresponding to timesteps in `data`.\n",
      " |          It should have same length as `data`.\n",
      " |      length: Length of the output sequences (in number of timesteps).\n",
      " |      sampling_rate: Period between successive individual timesteps\n",
      " |          within sequences. For rate `r`, timesteps\n",
      " |          `data[i]`, `data[i-r]`, ... `data[i - length]`\n",
      " |          are used for create a sample sequence.\n",
      " |      stride: Period between successive output sequences.\n",
      " |          For stride `s`, consecutive output samples would\n",
      " |          be centered around `data[i]`, `data[i+s]`, `data[i+2*s]`, etc.\n",
      " |      start_index: Data points earlier than `start_index` will not be used\n",
      " |          in the output sequences. This is useful to reserve part of the\n",
      " |          data for test or validation.\n",
      " |      end_index: Data points later than `end_index` will not be used\n",
      " |          in the output sequences. This is useful to reserve part of the\n",
      " |          data for test or validation.\n",
      " |      shuffle: Whether to shuffle output samples,\n",
      " |          or instead draw them in chronological order.\n",
      " |      reverse: Boolean: if `true`, timesteps in each output sample will be\n",
      " |          in reverse chronological order.\n",
      " |      batch_size: Number of timeseries samples in each batch\n",
      " |          (except maybe the last one).\n",
      " |  \n",
      " |  Returns:\n",
      " |      A [Sequence](\n",
      " |      https://www.tensorflow.org/api_docs/python/tf/keras/utils/Sequence)\n",
      " |      instance.\n",
      " |  \n",
      " |  Examples:\n",
      " |      ```python\n",
      " |      from keras.src.preprocessing.sequence import TimeseriesGenerator\n",
      " |      import numpy as np\n",
      " |      data = np.array([[i] for i in range(50)])\n",
      " |      targets = np.array([[i] for i in range(50)])\n",
      " |      data_gen = TimeseriesGenerator(data, targets,\n",
      " |                                     length=10, sampling_rate=2,\n",
      " |                                     batch_size=2)\n",
      " |      assert len(data_gen) == 20\n",
      " |      batch_0 = data_gen[0]\n",
      " |      x, y = batch_0\n",
      " |      assert np.array_equal(x,\n",
      " |                            np.array([[[0], [2], [4], [6], [8]],\n",
      " |                                      [[1], [3], [5], [7], [9]]]))\n",
      " |      assert np.array_equal(y,\n",
      " |                            np.array([[10], [11]]))\n",
      " |      ```\n",
      " |  \n",
      " |  Method resolution order:\n",
      " |      TimeseriesGenerator\n",
      " |      keras.src.utils.data_utils.Sequence\n",
      " |      builtins.object\n",
      " |  \n",
      " |  Methods defined here:\n",
      " |  \n",
      " |  __getitem__(self, index)\n",
      " |      Gets batch at position `index`.\n",
      " |      \n",
      " |      Args:\n",
      " |          index: position of the batch in the Sequence.\n",
      " |      \n",
      " |      Returns:\n",
      " |          A batch\n",
      " |  \n",
      " |  __init__(self, data, targets, length, sampling_rate=1, stride=1, start_index=0, end_index=None, shuffle=False, reverse=False, batch_size=128)\n",
      " |      Initialize self.  See help(type(self)) for accurate signature.\n",
      " |  \n",
      " |  __len__(self)\n",
      " |      Number of batch in the Sequence.\n",
      " |      \n",
      " |      Returns:\n",
      " |          The number of batches in the Sequence.\n",
      " |  \n",
      " |  get_config(self)\n",
      " |      Returns the TimeseriesGenerator configuration as Python dictionary.\n",
      " |      \n",
      " |      Returns:\n",
      " |          A Python dictionary with the TimeseriesGenerator configuration.\n",
      " |  \n",
      " |  to_json(self, **kwargs)\n",
      " |      Returns a JSON string containing the generator's configuration.\n",
      " |      \n",
      " |      Args:\n",
      " |          **kwargs: Additional keyword arguments to be passed\n",
      " |              to `json.dumps()`.\n",
      " |      \n",
      " |      Returns:\n",
      " |          A JSON string containing the tokenizer configuration.\n",
      " |  \n",
      " |  ----------------------------------------------------------------------\n",
      " |  Methods inherited from keras.src.utils.data_utils.Sequence:\n",
      " |  \n",
      " |  __iter__(self)\n",
      " |      Create a generator that iterate over the Sequence.\n",
      " |  \n",
      " |  on_epoch_end(self)\n",
      " |      Method called at the end of every epoch.\n",
      " |  \n",
      " |  ----------------------------------------------------------------------\n",
      " |  Data descriptors inherited from keras.src.utils.data_utils.Sequence:\n",
      " |  \n",
      " |  __dict__\n",
      " |      dictionary for instance variables (if defined)\n",
      " |  \n",
      " |  __weakref__\n",
      " |      list of weak references to the object (if defined)\n",
      "\n"
     ]
    }
   ],
   "source": [
    "help(TimeseriesGenerator)"
   ]
  },
  {
   "cell_type": "code",
   "execution_count": 15,
   "metadata": {
    "colab": {
     "base_uri": "https://localhost:8080/"
    },
    "id": "dx7ihbUI8m0_",
    "outputId": "1b4debb9-d4be-45ab-8bb7-77748595d018"
   },
   "outputs": [
    {
     "name": "stdout",
     "output_type": "stream",
     "text": [
      "Number of batch trains available :  1250\n",
      "batch x shape :  (32, 20, 2)\n",
      "batch y shape :  (32, 2)\n"
     ]
    }
   ],
   "source": [
    "# ---- Train generator\n",
    "#\n",
    "train_generator = TimeseriesGenerator(x_train, x_train, length=sequence_len,  batch_size=batch_size)\n",
    "test_generator  = TimeseriesGenerator(x_test,  x_test,  length=sequence_len,  batch_size=batch_size)\n",
    "\n",
    "\n",
    "\n",
    "x,y=train_generator[0]\n",
    "print(f'Number of batch trains available : ', len(train_generator))\n",
    "print('batch x shape : ',x.shape)\n",
    "print('batch y shape : ',y.shape)\n",
    "\n",
    "x,y=train_generator[0]"
   ]
  },
  {
   "cell_type": "code",
   "execution_count": null,
   "metadata": {
    "id": "HpEELKRzJJal"
   },
   "outputs": [],
   "source": [
    "#nbre de batch sur la partie train qui seront disponible 1250"
   ]
  },
  {
   "cell_type": "code",
   "execution_count": 17,
   "metadata": {
    "colab": {
     "base_uri": "https://localhost:8080/"
    },
    "id": "-5XWPwo_MEQK",
    "outputId": "6dbdb1c8-0746-4bb6-ef9a-5bd2926bda06"
   },
   "outputs": [
    {
     "name": "stdout",
     "output_type": "stream",
     "text": [
      "[[ 1.51082211  0.60192129]\n",
      " [ 1.0973062   0.56941666]\n",
      " [ 0.67321398  0.40948114]\n",
      " [ 0.27724087  0.15337586]\n",
      " [-0.06036217 -0.15208135]\n",
      " [-0.32138863 -0.45194792]\n",
      " [-0.50143666 -0.69186917]\n",
      " [-0.60961441 -0.8266991 ]\n",
      " [-0.66626689 -0.82767196]\n",
      " [-0.69908068 -0.68699496]\n",
      " [-0.73815107 -0.41913852]\n",
      " [-0.81074143 -0.05862023]\n",
      " [-0.93650597  0.34536956]\n",
      " [-1.12387974  0.73665546]\n",
      " [-1.36817222  1.06086889]\n",
      " [-1.6516574   1.2739608 ]\n",
      " [-1.94566801  1.34909606]\n",
      " [-2.21441409  1.28084433]\n",
      " [-2.41999739  1.08600773]\n",
      " [-2.52791764  0.80095448]]\n"
     ]
    }
   ],
   "source": [
    "print(x[0])"
   ]
  },
  {
   "cell_type": "code",
   "execution_count": null,
   "metadata": {
    "id": "6H093215MWvL"
   },
   "outputs": [],
   "source": [
    "#une série de deux vecteurs qui correspondent aux différentes pas de notre trajectoire"
   ]
  },
  {
   "cell_type": "code",
   "execution_count": 18,
   "metadata": {
    "colab": {
     "base_uri": "https://localhost:8080/"
    },
    "id": "a0Z-W_L6MgD-",
    "outputId": "15ef313c-26d0-4832-c3f7-b8ce60230a87"
   },
   "outputs": [
    {
     "name": "stdout",
     "output_type": "stream",
     "text": [
      "[-2.51228997  0.4758773 ]\n"
     ]
    }
   ],
   "source": [
    "print(y[0])"
   ]
  },
  {
   "cell_type": "code",
   "execution_count": null,
   "metadata": {
    "id": "UhOLNfMWOR7x"
   },
   "outputs": [],
   "source": [
    "#y c'est l'élément qui serait à la suite de cette série"
   ]
  },
  {
   "cell_type": "markdown",
   "metadata": {
    "id": "E8hyhjpn8kdk"
   },
   "source": [
    "    Step 3 - Create a model"
   ]
  },
  {
   "cell_type": "code",
   "execution_count": 19,
   "metadata": {
    "colab": {
     "base_uri": "https://localhost:8080/"
    },
    "id": "Az25rTEOVG5T",
    "outputId": "1ec71f38-f409-4078-e181-acb58cf4f793"
   },
   "outputs": [
    {
     "name": "stdout",
     "output_type": "stream",
     "text": [
      "Model: \"sequential\"\n",
      "_________________________________________________________________\n",
      " Layer (type)                Output Shape              Param #   \n",
      "=================================================================\n",
      " gru (GRU)                   (None, 200)               122400    \n",
      "                                                                 \n",
      " dense (Dense)               (None, 2)                 402       \n",
      "                                                                 \n",
      "=================================================================\n",
      "Total params: 122802 (479.70 KB)\n",
      "Trainable params: 122802 (479.70 KB)\n",
      "Non-trainable params: 0 (0.00 Byte)\n",
      "_________________________________________________________________\n"
     ]
    }
   ],
   "source": [
    "model = keras.models.Sequential()\n",
    "model.add( keras.layers.InputLayer(input_shape=(sequence_len, features_len)) )\n",
    "model.add( keras.layers.GRU(200, return_sequences=False, activation='relu') )\n",
    "model.add( keras.layers.Dense(features_len) )\n",
    "\n",
    "model.summary()"
   ]
  },
  {
   "cell_type": "markdown",
   "metadata": {
    "id": "XMTvb5VfXAZj"
   },
   "source": [
    "Step 4 - Compile and run"
   ]
  },
  {
   "cell_type": "markdown",
   "metadata": {
    "id": "lRLd07jKXB9g"
   },
   "source": [
    "4.1 - Compile"
   ]
  },
  {
   "cell_type": "code",
   "execution_count": 20,
   "metadata": {
    "id": "scLXQxZqXIBW"
   },
   "outputs": [],
   "source": [
    "model.compile(optimizer='rmsprop',\n",
    "              loss='mse',\n",
    "              metrics   = ['mae'] )"
   ]
  },
  {
   "cell_type": "code",
   "execution_count": 21,
   "metadata": {
    "colab": {
     "base_uri": "https://localhost:8080/"
    },
    "id": "8e7BYR_5YG4n",
    "outputId": "7e547802-b5e8-4375-ffd4-2294dd806f0a"
   },
   "outputs": [
    {
     "name": "stdout",
     "output_type": "stream",
     "text": [
      "Epoch 1/5\n",
      "1250/1250 [==============================] - 62s 48ms/step - loss: 0.0299 - mae: 0.1000 - val_loss: 0.0025 - val_mae: 0.0413\n",
      "Epoch 2/5\n",
      "1250/1250 [==============================] - 56s 45ms/step - loss: 0.0020 - mae: 0.0343 - val_loss: 6.1266e-04 - val_mae: 0.0192\n",
      "Epoch 3/5\n",
      "1250/1250 [==============================] - 58s 46ms/step - loss: 0.0012 - mae: 0.0269 - val_loss: 6.8780e-04 - val_mae: 0.0222\n",
      "Epoch 4/5\n",
      "1250/1250 [==============================] - 59s 47ms/step - loss: 8.8153e-04 - mae: 0.0230 - val_loss: 5.4009e-04 - val_mae: 0.0190\n",
      "Epoch 5/5\n",
      "1250/1250 [==============================] - 58s 47ms/step - loss: 7.0645e-04 - mae: 0.0205 - val_loss: 1.9697e-04 - val_mae: 0.0107\n"
     ]
    },
    {
     "data": {
      "text/plain": [
       "<keras.src.callbacks.History at 0x7feeae59c760>"
      ]
     },
     "execution_count": 21,
     "metadata": {},
     "output_type": "execute_result"
    }
   ],
   "source": [
    "model.fit(train_generator,\n",
    "                  epochs  = epochs,\n",
    "\n",
    "                  validation_data = test_generator)"
   ]
  }
 ],
 "metadata": {
  "colab": {
   "provenance": []
  },
  "kernelspec": {
   "display_name": "Python 3 (ipykernel)",
   "language": "python",
   "name": "python3"
  },
  "language_info": {
   "codemirror_mode": {
    "name": "ipython",
    "version": 3
   },
   "file_extension": ".py",
   "mimetype": "text/x-python",
   "name": "python",
   "nbconvert_exporter": "python",
   "pygments_lexer": "ipython3",
   "version": "3.11.4"
  }
 },
 "nbformat": 4,
 "nbformat_minor": 1
}
