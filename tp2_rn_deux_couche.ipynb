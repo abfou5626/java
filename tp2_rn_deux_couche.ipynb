{
 "cells": [
  {
   "cell_type": "code",
   "execution_count": 3,
   "id": "02637bd4",
   "metadata": {},
   "outputs": [],
   "source": [
    "import numpy as np\n",
    "import pandas as pd\n",
    "import matplotlib.pyplot as plt\n",
    "from sklearn.datasets import make_blobs"
   ]
  },
  {
   "cell_type": "code",
   "execution_count": 97,
   "id": "8af01e9e",
   "metadata": {},
   "outputs": [],
   "source": [
    "X, y = make_blobs(n_samples=100, centers=3, n_features=2,random_state=0)"
   ]
  },
  {
   "cell_type": "code",
   "execution_count": 98,
   "id": "3824e890",
   "metadata": {},
   "outputs": [],
   "source": [
    "y=y.reshape(100,1)"
   ]
  },
  {
   "cell_type": "code",
   "execution_count": 99,
   "id": "2fb73368",
   "metadata": {},
   "outputs": [
    {
     "name": "stdout",
     "output_type": "stream",
     "text": [
      "(100, 2)\n"
     ]
    }
   ],
   "source": [
    "print(X.shape)"
   ]
  },
  {
   "cell_type": "code",
   "execution_count": 120,
   "id": "a992bc45",
   "metadata": {},
   "outputs": [],
   "source": [
    "def initialisation(nb_neuro_c1,entrée,nb_neuro_2):\n",
    "    w1=np.random.randn(nb_neuro_c1,entrée)\n",
    "    b1=np.random.randn(nb_neuro_c1,1)\n",
    "    w2=np.random.randn(nb_neuro_2,nb_neuro_c1)\n",
    "    b2=np.random.randn(nb_neuro_2,1)\n",
    "    \n",
    "    return(w1,b1,w2,b2)  "
   ]
  },
  {
   "cell_type": "code",
   "execution_count": 121,
   "id": "3e67e2aa",
   "metadata": {},
   "outputs": [],
   "source": [
    "rentré=X.shape[0]\n",
    "w1,b1,w2,b2=initialisation(2,rentré,1)\n"
   ]
  },
  {
   "cell_type": "code",
   "execution_count": 122,
   "id": "f13256cc",
   "metadata": {},
   "outputs": [
    {
     "name": "stdout",
     "output_type": "stream",
     "text": [
      "(2, 100)\n"
     ]
    }
   ],
   "source": [
    "print(w1.shape)"
   ]
  },
  {
   "cell_type": "code",
   "execution_count": 123,
   "id": "a96a7d83",
   "metadata": {},
   "outputs": [
    {
     "name": "stdout",
     "output_type": "stream",
     "text": [
      "(2, 1)\n"
     ]
    }
   ],
   "source": [
    "print(b1.shape)"
   ]
  },
  {
   "cell_type": "code",
   "execution_count": 112,
   "id": "240c2ff2",
   "metadata": {},
   "outputs": [
    {
     "name": "stdout",
     "output_type": "stream",
     "text": [
      "(1, 2)\n"
     ]
    }
   ],
   "source": [
    "print(w2.shape)"
   ]
  },
  {
   "cell_type": "code",
   "execution_count": 113,
   "id": "3d7abb54",
   "metadata": {},
   "outputs": [
    {
     "name": "stdout",
     "output_type": "stream",
     "text": [
      "(1, 1)\n"
     ]
    }
   ],
   "source": [
    "print(b2.shape)"
   ]
  },
  {
   "cell_type": "code",
   "execution_count": 129,
   "id": "0de26851",
   "metadata": {},
   "outputs": [],
   "source": [
    "def model(X,W1,b1,W2,b2):\n",
    "    Z1=np.dot(W1,X)+b1\n",
    "    A1=1/(1+np.exp(-Z1)) \n",
    "    Z2 = np.dot( W2,A1) + b2\n",
    "    A2 = 1 / (1 + np.exp(-Z2))\n",
    "    return A2"
   ]
  },
  {
   "cell_type": "code",
   "execution_count": 132,
   "id": "aa0f87db",
   "metadata": {},
   "outputs": [],
   "source": [
    "A2=model(X,w1,b1,w2,b2)"
   ]
  },
  {
   "cell_type": "code",
   "execution_count": 133,
   "id": "ff2dc1d3",
   "metadata": {},
   "outputs": [
    {
     "name": "stdout",
     "output_type": "stream",
     "text": [
      "(2, 2)\n"
     ]
    }
   ],
   "source": [
    "print(A2.shape)"
   ]
  },
  {
   "cell_type": "code",
   "execution_count": 134,
   "id": "3d3fe389",
   "metadata": {},
   "outputs": [],
   "source": [
    "def cout(A2,y):\n",
    "    \n",
    "    erreur= (-1/len(y)) * np.sum(y * np.log(A2) + (1 - y) * np.log(1 - A2))\n",
    "    return erreur"
   ]
  },
  {
   "cell_type": "code",
   "execution_count": 135,
   "id": "61934a19",
   "metadata": {},
   "outputs": [
    {
     "ename": "ValueError",
     "evalue": "operands could not be broadcast together with shapes (100,1) (2,2) ",
     "output_type": "error",
     "traceback": [
      "\u001b[1;31m---------------------------------------------------------------------------\u001b[0m",
      "\u001b[1;31mValueError\u001b[0m                                Traceback (most recent call last)",
      "Cell \u001b[1;32mIn[135], line 1\u001b[0m\n\u001b[1;32m----> 1\u001b[0m erreur \u001b[38;5;241m=\u001b[39m\u001b[43mcout\u001b[49m\u001b[43m(\u001b[49m\u001b[43mA2\u001b[49m\u001b[43m,\u001b[49m\u001b[43my\u001b[49m\u001b[43m)\u001b[49m\n",
      "Cell \u001b[1;32mIn[134], line 3\u001b[0m, in \u001b[0;36mcout\u001b[1;34m(A2, y)\u001b[0m\n\u001b[0;32m      1\u001b[0m \u001b[38;5;28;01mdef\u001b[39;00m \u001b[38;5;21mcout\u001b[39m(A2,y):\n\u001b[1;32m----> 3\u001b[0m     erreur\u001b[38;5;241m=\u001b[39m (\u001b[38;5;241m-\u001b[39m\u001b[38;5;241m1\u001b[39m\u001b[38;5;241m/\u001b[39m\u001b[38;5;28mlen\u001b[39m(y)) \u001b[38;5;241m*\u001b[39m np\u001b[38;5;241m.\u001b[39msum(\u001b[43my\u001b[49m\u001b[43m \u001b[49m\u001b[38;5;241;43m*\u001b[39;49m\u001b[43m \u001b[49m\u001b[43mnp\u001b[49m\u001b[38;5;241;43m.\u001b[39;49m\u001b[43mlog\u001b[49m\u001b[43m(\u001b[49m\u001b[43mA2\u001b[49m\u001b[43m)\u001b[49m \u001b[38;5;241m+\u001b[39m (\u001b[38;5;241m1\u001b[39m \u001b[38;5;241m-\u001b[39m y) \u001b[38;5;241m*\u001b[39m np\u001b[38;5;241m.\u001b[39mlog(\u001b[38;5;241m1\u001b[39m \u001b[38;5;241m-\u001b[39m A2))\n\u001b[0;32m      4\u001b[0m     \u001b[38;5;28;01mreturn\u001b[39;00m erreur\n",
      "\u001b[1;31mValueError\u001b[0m: operands could not be broadcast together with shapes (100,1) (2,2) "
     ]
    }
   ],
   "source": [
    "erreur =cout(A2,y)"
   ]
  },
  {
   "cell_type": "code",
   "execution_count": null,
   "id": "90be13ed",
   "metadata": {},
   "outputs": [],
   "source": []
  }
 ],
 "metadata": {
  "kernelspec": {
   "display_name": "Python 3 (ipykernel)",
   "language": "python",
   "name": "python3"
  },
  "language_info": {
   "codemirror_mode": {
    "name": "ipython",
    "version": 3
   },
   "file_extension": ".py",
   "mimetype": "text/x-python",
   "name": "python",
   "nbconvert_exporter": "python",
   "pygments_lexer": "ipython3",
   "version": "3.11.4"
  }
 },
 "nbformat": 4,
 "nbformat_minor": 5
}
